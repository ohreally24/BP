{
  "cells": [
    {
      "cell_type": "markdown",
      "metadata": {
        "id": "view-in-github",
        "colab_type": "text"
      },
      "source": [
        "<a href=\"https://colab.research.google.com/github/ohreally24/BP/blob/main/JUST%20ENOUGH%20PYTHON.ipynb\" target=\"_parent\"><img src=\"https://colab.research.google.com/assets/colab-badge.svg\" alt=\"Open In Colab\"/></a>"
      ]
    },
    {
      "cell_type": "markdown",
      "metadata": {
        "id": "9nAMzrmXnBw6"
      },
      "source": [
        "# Just Enough Python\n",
        "\n",
        "This series of notebooks introduces the essential components of the programming language Python. The focus of these notebooks is on the programming language and not on the craft of programming. The notebooks do not discuss everything about Python but provide a foundation so the student can [take it further](21_taking_it_further.ipynb). The material has been prepared for students in the Faculty of Business and Law at Curtin University. \n",
        "\n",
        "1. [Hello World](01_hello_world.ipynb)\n",
        "2. [Basic Python Syntax](02_basic_python_syntax.ipynb)\n",
        "3. [Values](03_values.ipynb)\n",
        "4. [Variables](04_variables.ipynb)\n",
        "5. [Output](05_output.ipynb)\n",
        "6. [Input](06_input.ipynb)\n",
        "7. [Operators](07_operators.ipynb)\n",
        "8. [Using Functions](08_using_functions.ipynb)\n",
        "9. [Creating Function](09_creating_functions.ipynb)\n",
        "10. [Making Decisions](10_making_decisions.ipynb)\n",
        "11. [Lists](11_lists.ipynb)\n",
        "12. [Going Loopy](12_going_loopy.ipynb)\n",
        "13. [Strings](13_strings.ipynb)\n",
        "14. [Dictionaries](14_dictionaries.ipynb)\n",
        "15. [Files](15_files.ipynb)\n",
        "16. [Errors and Exceptions](16_errors_and_exceptions.ipynb)\n",
        "17. [Debugging](17_debugging.ipynb)\n",
        "18. [Testing](18_testing.ipynb)\n",
        "19. [Modules and Packages](19_modules_and_pckages.ipynb)\n",
        "20. [Orientating your Objects](20_orientating_your_objects.ipynb)\n",
        "21. [How to Run Python Code](21_how_to_run_python_code.ipynb)\n",
        "22. [How to Install Python](22_how_to_install_python.ipynb)\n",
        "23. [Getting Help](23_getting_help.ipynb)\n",
        "24. [Taking it Further](24_taking_it_further.ipynb)\n",
        "\n",
        "\n",
        "# Similar Python Tutorials\n",
        "\n",
        "Here are a some free beginner tutorials that inspired this series of notebooks. They have a data science focus but you may find useful in your learning journey.\n",
        "\n",
        "* [Introduction to Python (Microsoft)](https://docs.microsoft.com/en-us/learn/modules/intro-to-python/)\n",
        "* [Python (Kaggle)](https://www.kaggle.com/learn/python)\n",
        "* [Whirlwind Tour of Python](https://github.com/jakevdp/WhirlwindTourOfPython/blob/master/Index.ipynb)\n",
        "* [Learn Python in 1 hour (Video)](https://youtu.be/kqtD5dpn9C8)\n",
        "* [Learn Python Basics for Data Analysis](https://openclassrooms.com/en/courses/2304731-learn-python-basics-for-data-analysis)"
      ]
    },
    {
      "cell_type": "code",
      "source": [
        ""
      ],
      "metadata": {
        "id": "XVWycl4SZguS"
      },
      "execution_count": null,
      "outputs": []
    }
  ],
  "metadata": {
    "kernelspec": {
      "display_name": "Python 3",
      "language": "python",
      "name": "python3"
    },
    "language_info": {
      "codemirror_mode": {
        "name": "ipython",
        "version": 3
      },
      "file_extension": ".py",
      "mimetype": "text/x-python",
      "name": "python",
      "nbconvert_exporter": "python",
      "pygments_lexer": "ipython3",
      "version": "3.8.5"
    },
    "colab": {
      "name": "00_contents.ipynb",
      "provenance": [],
      "include_colab_link": true
    }
  },
  "nbformat": 4,
  "nbformat_minor": 0
}