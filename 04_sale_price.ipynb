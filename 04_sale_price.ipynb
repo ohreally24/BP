{
  "nbformat": 4,
  "nbformat_minor": 0,
  "metadata": {
    "colab": {
      "name": "04 sale_price.ipynb",
      "provenance": [],
      "include_colab_link": true
    },
    "kernelspec": {
      "name": "python3",
      "display_name": "Python 3"
    },
    "language_info": {
      "name": "python"
    }
  },
  "cells": [
    {
      "cell_type": "markdown",
      "metadata": {
        "id": "view-in-github",
        "colab_type": "text"
      },
      "source": [
        "<a href=\"https://colab.research.google.com/github/ohreally24/BP/blob/main/04_sale_price.ipynb\" target=\"_parent\"><img src=\"https://colab.research.google.com/assets/colab-badge.svg\" alt=\"Open In Colab\"/></a>"
      ]
    },
    {
      "cell_type": "markdown",
      "metadata": {
        "id": "cgTeiXOtSPjH"
      },
      "source": [
        "# Sales Price\n",
        "\n",
        "A local department store needs to develop a program that will computer the total price (including goods and services tax) of the item on sale when given an item's original price and discount percentage.\n",
        "\n",
        "## Tasks\n",
        "* Save to Github\n",
        "* Design Algorithm\n",
        "* Write and test the program in Python"
      ]
    },
    {
      "cell_type": "code",
      "metadata": {
        "id": "pPIN2ZcrSqdw",
        "colab": {
          "base_uri": "https://localhost:8080/"
        },
        "outputId": "941fa43d-1b6b-4182-944c-167d8961ae11"
      },
      "source": [
        "#original_price = 40\n",
        "#discount = 0.3\n",
        "#gst = 0.07\n",
        "\n",
        "def calculate_totalprice(originalprice, discount, gst):\n",
        "  discounted_price = originalprice - (originalprice * discount)\n",
        "  gstamount = gst * discounted_price\n",
        "  totalprice = discounted_price + gstamount\n",
        "  print('Original price is', originalprice)\n",
        "  print('Discount is', discounted_price)\n",
        "  print('GST is', gstamount)\n",
        "  print('Total price is', totalprice)\n",
        "\n",
        "calculate_totalprice(40, 0.3, 0.07)\n"
      ],
      "execution_count": 9,
      "outputs": [
        {
          "output_type": "stream",
          "name": "stdout",
          "text": [
            "Original price is 40\n",
            "Discount is 28.0\n",
            "GST is 1.9600000000000002\n",
            "Total price is 29.96\n"
          ]
        }
      ]
    }
  ]
}