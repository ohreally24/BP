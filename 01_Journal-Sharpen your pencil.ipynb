{
  "nbformat": 4,
  "nbformat_minor": 0,
  "metadata": {
    "colab": {
      "name": "Week01-Journal.ipynb",
      "provenance": [],
      "authorship_tag": "ABX9TyN5xgHnx3qKX87LA8yueeeE",
      "include_colab_link": true
    },
    "kernelspec": {
      "name": "python3",
      "display_name": "Python 3"
    },
    "language_info": {
      "name": "python"
    }
  },
  "cells": [
    {
      "cell_type": "markdown",
      "metadata": {
        "id": "view-in-github",
        "colab_type": "text"
      },
      "source": [
        "<a href=\"https://colab.research.google.com/github/ohreally24/BP/blob/main/01_Journal-Sharpen%20your%20pencil.ipynb\" target=\"_parent\"><img src=\"https://colab.research.google.com/assets/colab-badge.svg\" alt=\"Open In Colab\"/></a>"
      ]
    },
    {
      "cell_type": "markdown",
      "source": [
        "# Activity 1 - Sharpen your pencil"
      ],
      "metadata": {
        "id": "MsEEwCXQHWwY"
      }
    },
    {
      "cell_type": "code",
      "source": [
        "import random\n",
        "\n",
        "customers = ['Jimmy', 'Kim', 'John', 'Stacie']\n",
        "winner = random.choice(customers)\n",
        "flavor = 'vanilla'\n",
        "print('Congratulations ' + winner +' you have won an ice cream sundae!')\n",
        "prompt = 'Would you like a cherry on top? '\n",
        "\n",
        "wants_cherry = input(prompt)\n",
        "order = flavor + ' sundae'\n",
        "\n",
        "if (wants_cherry == 'yes'):\n",
        "  order = order + ' with a cherry on top'\n",
        "\n",
        "print('One ' + order + ' for ' + winner + ' coming right up...')"
      ],
      "metadata": {
        "id": "wc75tLBJHb3B"
      },
      "execution_count": null,
      "outputs": []
    }
  ]
}