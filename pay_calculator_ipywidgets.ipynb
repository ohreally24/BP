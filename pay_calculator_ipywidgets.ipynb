{
  "nbformat": 4,
  "nbformat_minor": 0,
  "metadata": {
    "colab": {
      "name": "pay_calculator_ipywidgets.ipynb",
      "provenance": [],
      "include_colab_link": true
    },
    "kernelspec": {
      "name": "python3",
      "display_name": "Python 3"
    },
    "language_info": {
      "name": "python"
    }
  },
  "cells": [
    {
      "cell_type": "markdown",
      "metadata": {
        "id": "view-in-github",
        "colab_type": "text"
      },
      "source": [
        "<a href=\"https://colab.research.google.com/github/ohreally24/BP/blob/main/pay_calculator_ipywidgets.ipynb\" target=\"_parent\"><img src=\"https://colab.research.google.com/assets/colab-badge.svg\" alt=\"Open In Colab\"/></a>"
      ]
    },
    {
      "cell_type": "markdown",
      "source": [
        "# Pay Calculator\n",
        "\n",
        "Use this calculator to quickly estimate how much tax you will pay on your weekly income. This calculator conforms to official Australian Tax Office rates and formulas.\n"
      ],
      "metadata": {
        "id": "U19jneZPPOk6"
      }
    },
    {
      "cell_type": "code",
      "source": [
        "def calculate_ato_tax(income):\n",
        "  '''\n",
        "  Calculate the tax payable on yearly income based on the Australian Tax \n",
        "  Office Resident tax rates 2021–22 Taxable Income\n",
        "  '''\n",
        "  tax_payable = 0 # if income <= 18200:\n",
        "  if 18201 <= income <= 45000:\n",
        "    tax_payable = 0.19 * (income - 18200)\n",
        "  elif 45001 <= income <= 120000:\n",
        "    tax_payable = 5092 + 0.32 * (income - 45000)\n",
        "  elif 120001 <= income <= 180000:\n",
        "    tax_payable = 29467 + 0.37 * (income - 120000)\n",
        "  elif income >= 180001:\n",
        "    tax_payable = 51667 + 0.45 * (income - 180000)\n",
        "  return tax_payable\n",
        "\n",
        "def print_payslip(name, date, salary, sales):\n",
        "  commission = sales * 0.02\n",
        "  earnings = salary + commission\n",
        "  income = earnings * 52\n",
        "  tax = calculate_ato_tax(income) / 52\n",
        "  pay = earnings - tax\n",
        "\n",
        "  # Print pay slip\n",
        "  print(f'Payslip of {name} for week {date}')\n",
        "  print(f'Weekly Salary: ${salary:.2f} Commission: ${commission:.2f} Tax: ${tax:.2f}')\n",
        "  print(f'Take Home Pay ${pay:.2f}')\n",
        "\n",
        "\n",
        "# Create Interface\n",
        "#@title\n",
        "import ipywidgets as widgets\n",
        "from datetime import date\n",
        "\n",
        "title = widgets.HTML(\n",
        "    value=\"<h1>Pay Calculator<h1>\",\n",
        ")\n",
        "\n",
        "name = widgets.Text(\n",
        "    value=\n",
        "    placeholder=\n",
        "    description=\n",
        "    tooltip=\n",
        "    disabled=False\n",
        ")\n",
        "\n",
        "date = widgets.DatePicker(\n",
        "    value=date.today(),\n",
        "    description='Pick a Date',\n",
        "    disabled=False\n",
        ")\n",
        "\n",
        "\n",
        "# Need Salary input widget.  Try floatText\n",
        "\n",
        "\n",
        "\n",
        "# Need Sales input widget.  Try floatText\n",
        "\n",
        "\n",
        "\n",
        "\n",
        "calculate = widgets.Button(\n",
        "    description='Calculate',\n",
        "    disabled=False,\n",
        "    button_style='success',\n",
        "    tooltip='Click to calculate pay',\n",
        "    icon='check'\n",
        ")\n",
        "\n",
        "# widget to capture the output from print()\n",
        "out = widgets.Output(layout={'border': '1px solid black'})\n",
        "\n",
        "# the function to call when button is clicked\n",
        "def on_button_clicked(calculate):\n",
        "    with out:\n",
        "        out.clear_output()\n",
        "        print_payslip(name.value, date.value, salary.value, sales.value)\n",
        "# button callback\n",
        "calculate.on_click(on_button_clicked, False)\n",
        "\n",
        "# Collate all the widgets together in a VBox widget\n",
        "app = widgets.VBox([title, name, date,salary,sales, calculate, out])\n",
        "\n",
        "# run/display the app/form\n",
        "app"
      ],
      "metadata": {
        "id": "BkFBsstuuVzd"
      },
      "execution_count": null,
      "outputs": []
    },
    {
      "cell_type": "code",
      "source": [
        ""
      ],
      "metadata": {
        "id": "P_9r2eLi7lRx"
      },
      "execution_count": null,
      "outputs": []
    }
  ]
}