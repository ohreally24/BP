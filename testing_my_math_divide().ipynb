{
  "nbformat": 4,
  "nbformat_minor": 0,
  "metadata": {
    "colab": {
      "name": "testing_my_math.divide().ipynb",
      "provenance": [],
      "include_colab_link": true
    },
    "kernelspec": {
      "name": "python3",
      "display_name": "Python 3"
    },
    "language_info": {
      "name": "python"
    }
  },
  "cells": [
    {
      "cell_type": "markdown",
      "metadata": {
        "id": "view-in-github",
        "colab_type": "text"
      },
      "source": [
        "<a href=\"https://colab.research.google.com/github/ohreally24/BP/blob/main/testing_my_math_divide().ipynb\" target=\"_parent\"><img src=\"https://colab.research.google.com/assets/colab-badge.svg\" alt=\"Open In Colab\"/></a>"
      ]
    },
    {
      "cell_type": "markdown",
      "source": [
        "## Testing  my_math.divide()\n",
        "\n",
        "What is your preferred testing strategy? Do you like using the assert statement or prefer doctest?  \n",
        "\n",
        "Using your preferred testing strategy, develop a test table and test the following funciton.  Where required update the function so all test behave as expected.\n",
        "\n",
        "\n",
        "## Function to test"
      ],
      "metadata": {
        "id": "LIfoDVzKX7uK"
      }
    },
    {
      "cell_type": "code",
      "source": [
        "def divide(x, y):\n",
        "    '''Divide first by second number'''\n",
        "    return x / y"
      ],
      "metadata": {
        "id": "YH9gDoOYvKwg"
      },
      "execution_count": 1,
      "outputs": []
    },
    {
      "cell_type": "markdown",
      "source": [
        "## Test Table\n",
        "\n",
        "List you test cases here."
      ],
      "metadata": {
        "id": "JYSZ-53nLF6n"
      }
    },
    {
      "cell_type": "markdown",
      "source": [
        "| Test # | Type | Data | Expected | Actual | Pass/Fail |\n",
        "|--------|------|------|----------|--------|-----------|\n",
        "|    1   |Valid | (4,2)|     2    |        |           |\n",
        "|    2   |Valid | (2,4)|    0.5   |        |           |\n",
        "|    3   |Valid | (4,-2)|     -2    |        |           |\n",
        "|    4   |Valid | (-2,4)|     -0.5  |        |           |\n",
        "|    5   |Valid | (-4,-2)|     2    |        |           |\n",
        "|    6   |Valid | (1.1,1.1)|     1    |        |           |\n",
        "|    7   |Valid | (-1.1,1.1)|     -1    |        |           |\n",
        "|    8   |Valid | (-1.1,-1.1)|     1    |        |           |\n",
        "|    9   |Invalid | (0,0)|'Cannot divide by 0'   |        |           |\n",
        "|    10  |Invalid | ('0',4)|'Not a number'   |        |           |\n",
        "|    11  |Invalid | ('zero','4')|'Not a number'   |        |           |\n",
        "|    12  |Invalid | ([1],[1])|'Not a number'   |        |           |\n",
        "|    13  |Invalid | ({1},{1})|'Not a number'   |        |           |\n",
        "\n",
        "\n"
      ],
      "metadata": {
        "id": "geMts0SNmafD"
      }
    },
    {
      "cell_type": "code",
      "source": [
        "def isNumeric(a):\n",
        "  return (type(a) == int or type(a) == float)\n",
        "\n",
        "def divide(x, y):\n",
        "    '''Divide first by second number'''\n",
        "    if y == 0:\n",
        "      return 'Cannot divide by 0'\n",
        "    if (isNumeric(x) and isNumeric(y)):\n",
        "      return x / y\n",
        "    \n",
        "    return 'Not a number'"
      ],
      "metadata": {
        "id": "DMTITEmbLE_Z"
      },
      "execution_count": 12,
      "outputs": []
    },
    {
      "cell_type": "code",
      "source": [
        "assert divide(4,2) == 2\n",
        "assert divide(2,4) == 0.5\n",
        "assert divide(4,-2) == -2\n",
        "assert divide(-2,4) == -0.5\n",
        "assert divide(-4,-2) == 2\n",
        "assert divide(1.1,1.1) == 1\n",
        "assert divide(-1.1,1.1) == -1\n",
        "assert divide(-1.1,-1.1) == 1\n",
        "assert divide(0,0) == 'Cannot divide by 0'\n",
        "assert divide('0',4) == 'Not a number'\n",
        "assert divide('zero','4') == 'Not a number'\n",
        "assert divide([1],[1]) == 'Not a number'\n",
        "assert divide({1},{1}) == 'Not a number'"
      ],
      "metadata": {
        "id": "GluSadUmyBD-"
      },
      "execution_count": 17,
      "outputs": []
    }
  ]
}