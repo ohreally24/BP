{
  "cells": [
    {
      "cell_type": "markdown",
      "metadata": {
        "id": "view-in-github",
        "colab_type": "text"
      },
      "source": [
        "<a href=\"https://colab.research.google.com/github/ohreally24/BP/blob/main/02_a_taste_of_python.ipynb\" target=\"_parent\"><img src=\"https://colab.research.google.com/assets/colab-badge.svg\" alt=\"Open In Colab\"/></a>"
      ]
    },
    {
      "cell_type": "markdown",
      "id": "990c534e-ee5b-4406-ac98-d3357f3bd7ec",
      "metadata": {
        "id": "990c534e-ee5b-4406-ac98-d3357f3bd7ec"
      },
      "source": [
        "# A Taste of Python\n",
        "\n",
        "Computers do two things really well. ***Store values*** and ***perform operations*** on those values\n",
        "\n",
        "You might think they’re doing a whole lot more, as you send texts, shop online, or rely on your phone to navigate in your car; however, everything computers do can be broken down into simple operations that are performed on simple values.\n",
        "\n",
        "Now, part of computational thinking is learning to use these operations and values to build something that is much more sophisticated, complex, and meaningful—and we’re going to get to that. \n",
        "\n",
        "First, though, we’re going to take a look at what these values are, the operations you can perform on them, and just what role variables play in all this.\n",
        "\n",
        "# Store Values\n",
        "\n",
        "### What is a value?\n",
        "\n",
        "Because programs are written to process data, you must have a good understanding of the nature and structure of the data being processed.\n",
        "\n",
        "Data within a program may be a single value, such as a number.  In the cell below try some different numbers, say 123, or 31.7."
      ]
    },
    {
      "cell_type": "code",
      "execution_count": null,
      "id": "a3506a0d-e007-45b1-920f-d499033baf9f",
      "metadata": {
        "colab": {
          "base_uri": "https://localhost:8080/"
        },
        "id": "a3506a0d-e007-45b1-920f-d499033baf9f",
        "outputId": "9c62ebdd-a6fc-4d9a-b585-aaf16b2a157b"
      },
      "outputs": [
        {
          "output_type": "execute_result",
          "data": {
            "text/plain": [
              "123"
            ]
          },
          "metadata": {},
          "execution_count": 1
        }
      ],
      "source": [
        "123"
      ]
    },
    {
      "cell_type": "code",
      "source": [
        "31.7"
      ],
      "metadata": {
        "colab": {
          "base_uri": "https://localhost:8080/"
        },
        "id": "yVcz74bnJolx",
        "outputId": "c6829943-bacc-4f31-9bc5-c0fce7724af1"
      },
      "id": "yVcz74bnJolx",
      "execution_count": null,
      "outputs": [
        {
          "output_type": "execute_result",
          "data": {
            "text/plain": [
              "31.7"
            ]
          },
          "metadata": {},
          "execution_count": 2
        }
      ]
    },
    {
      "cell_type": "markdown",
      "id": "7e26a95d-228d-41e5-8c4e-895765bc23f7",
      "metadata": {
        "id": "7e26a95d-228d-41e5-8c4e-895765bc23f7"
      },
      "source": [
        "Data within a program may be a single value, such as a character.  Are the quotes important? Is 'A' different from 'a'?"
      ]
    },
    {
      "cell_type": "code",
      "execution_count": null,
      "id": "cbd8c919-9732-4f5d-9b82-9209aff137f6",
      "metadata": {
        "colab": {
          "base_uri": "https://localhost:8080/",
          "height": 35
        },
        "id": "cbd8c919-9732-4f5d-9b82-9209aff137f6",
        "outputId": "a876f497-f886-494d-f898-4c13ecef8fa7"
      },
      "outputs": [
        {
          "output_type": "execute_result",
          "data": {
            "application/vnd.google.colaboratory.intrinsic+json": {
              "type": "string"
            },
            "text/plain": [
              "'A'"
            ]
          },
          "metadata": {},
          "execution_count": 15
        }
      ],
      "source": [
        "'A'"
      ]
    },
    {
      "cell_type": "code",
      "source": [
        "'a'"
      ],
      "metadata": {
        "colab": {
          "base_uri": "https://localhost:8080/",
          "height": 35
        },
        "id": "CL5yr8ClJudw",
        "outputId": "f18c1d8b-82bc-4211-97cf-c89c59a26af3"
      },
      "id": "CL5yr8ClJudw",
      "execution_count": null,
      "outputs": [
        {
          "output_type": "execute_result",
          "data": {
            "application/vnd.google.colaboratory.intrinsic+json": {
              "type": "string"
            },
            "text/plain": [
              "'a'"
            ]
          },
          "metadata": {},
          "execution_count": 11
        }
      ]
    },
    {
      "cell_type": "code",
      "source": [
        "\"A\""
      ],
      "metadata": {
        "colab": {
          "base_uri": "https://localhost:8080/",
          "height": 35
        },
        "id": "AiCUA1izJvr1",
        "outputId": "564d2861-61ec-407c-f91a-1d329a9bd2e4"
      },
      "id": "AiCUA1izJvr1",
      "execution_count": null,
      "outputs": [
        {
          "output_type": "execute_result",
          "data": {
            "application/vnd.google.colaboratory.intrinsic+json": {
              "type": "string"
            },
            "text/plain": [
              "'A'"
            ]
          },
          "metadata": {},
          "execution_count": 14
        }
      ]
    },
    {
      "cell_type": "code",
      "source": [
        "\"a\""
      ],
      "metadata": {
        "colab": {
          "base_uri": "https://localhost:8080/",
          "height": 35
        },
        "id": "XvSHB8icJze3",
        "outputId": "82acb5f7-8cd7-474c-e23b-3110bd893b53"
      },
      "id": "XvSHB8icJze3",
      "execution_count": null,
      "outputs": [
        {
          "output_type": "execute_result",
          "data": {
            "application/vnd.google.colaboratory.intrinsic+json": {
              "type": "string"
            },
            "text/plain": [
              "'a'"
            ]
          },
          "metadata": {},
          "execution_count": 13
        }
      ]
    },
    {
      "cell_type": "markdown",
      "id": "d6583eb9-8381-4de7-b70a-3da9bae50b5b",
      "metadata": {
        "id": "d6583eb9-8381-4de7-b70a-3da9bae50b5b"
      },
      "source": [
        "Data within a program may be a single value, such as true or false.  In programming we call the a boolean value, sometimes abbreviated as bool."
      ]
    },
    {
      "cell_type": "code",
      "execution_count": null,
      "id": "e222c1a7-963f-4ab7-8d95-02fead45cc14",
      "metadata": {
        "colab": {
          "base_uri": "https://localhost:8080/"
        },
        "id": "e222c1a7-963f-4ab7-8d95-02fead45cc14",
        "outputId": "39503621-e0ad-4b4a-beab-cd4010533aa6"
      },
      "outputs": [
        {
          "output_type": "execute_result",
          "data": {
            "text/plain": [
              "True"
            ]
          },
          "metadata": {},
          "execution_count": 18
        }
      ],
      "source": [
        "True #need capital #BLUE is for RESULT keyword"
      ]
    },
    {
      "cell_type": "code",
      "source": [
        "False"
      ],
      "metadata": {
        "colab": {
          "base_uri": "https://localhost:8080/"
        },
        "id": "Q3KDuR7yKh3y",
        "outputId": "75c07c60-a360-41eb-eb78-aa3cff87743d"
      },
      "id": "Q3KDuR7yKh3y",
      "execution_count": null,
      "outputs": [
        {
          "output_type": "execute_result",
          "data": {
            "text/plain": [
              "False"
            ]
          },
          "metadata": {},
          "execution_count": 19
        }
      ]
    },
    {
      "cell_type": "markdown",
      "id": "6b5fad28-f83e-4071-8c07-b682f0f8a378",
      "metadata": {
        "id": "6b5fad28-f83e-4071-8c07-b682f0f8a378"
      },
      "source": [
        "Data within a program may be a group items such as a list.  The list could contian the same or different type of values."
      ]
    },
    {
      "cell_type": "code",
      "execution_count": null,
      "id": "45204b84-3142-48dc-bb82-15d07ac5bcb5",
      "metadata": {
        "colab": {
          "base_uri": "https://localhost:8080/"
        },
        "id": "45204b84-3142-48dc-bb82-15d07ac5bcb5",
        "outputId": "424092ef-56fb-4c4e-dd52-02789c4b7095"
      },
      "outputs": [
        {
          "output_type": "execute_result",
          "data": {
            "text/plain": [
              "['red', 'blue', 'yellow', 'green']"
            ]
          },
          "metadata": {},
          "execution_count": 23
        }
      ],
      "source": [
        "[\"red\", \"blue\", \"yellow\", \"green\"]"
      ]
    },
    {
      "cell_type": "code",
      "source": [
        "[1,2,3,4,5,6,7,8,9,10]"
      ],
      "metadata": {
        "colab": {
          "base_uri": "https://localhost:8080/"
        },
        "id": "X6s_USh4LJ7_",
        "outputId": "a3042b4f-4da9-4970-b0ab-8141f4a72aeb"
      },
      "id": "X6s_USh4LJ7_",
      "execution_count": null,
      "outputs": [
        {
          "output_type": "execute_result",
          "data": {
            "text/plain": [
              "[1, 2, 3, 4, 5, 6, 7, 8, 9, 10]"
            ]
          },
          "metadata": {},
          "execution_count": 22
        }
      ]
    },
    {
      "cell_type": "code",
      "source": [
        "list = [24, \"sushi\", 3, \"burger\"]\n",
        "print(list)"
      ],
      "metadata": {
        "colab": {
          "base_uri": "https://localhost:8080/"
        },
        "id": "7HgaY9_OLjgZ",
        "outputId": "98e4b737-f960-4db4-b4b9-54278631cda1"
      },
      "id": "7HgaY9_OLjgZ",
      "execution_count": null,
      "outputs": [
        {
          "output_type": "stream",
          "name": "stdout",
          "text": [
            "[24, 'sushi', 3, 'burger']\n"
          ]
        }
      ]
    },
    {
      "cell_type": "markdown",
      "id": "5f4d9675-4fac-43f3-a786-e2d82ebd3d3c",
      "metadata": {
        "id": "5f4d9675-4fac-43f3-a786-e2d82ebd3d3c"
      },
      "source": [
        "Data within a program may be a group items such as a string. "
      ]
    },
    {
      "cell_type": "code",
      "execution_count": null,
      "id": "a04eb2f0-4f59-47ea-9556-3cba1c88ac1c",
      "metadata": {
        "colab": {
          "base_uri": "https://localhost:8080/",
          "height": 35
        },
        "id": "a04eb2f0-4f59-47ea-9556-3cba1c88ac1c",
        "outputId": "09700702-00ee-4e27-ec33-21f3cc55311c"
      },
      "outputs": [
        {
          "output_type": "execute_result",
          "data": {
            "application/vnd.google.colaboratory.intrinsic+json": {
              "type": "string"
            },
            "text/plain": [
              "'Hello World'"
            ]
          },
          "metadata": {},
          "execution_count": 28
        }
      ],
      "source": [
        "#use double quotes for strings\n",
        "\"Hello World\""
      ]
    },
    {
      "cell_type": "code",
      "source": [
        "'Hello World'"
      ],
      "metadata": {
        "colab": {
          "base_uri": "https://localhost:8080/",
          "height": 35
        },
        "id": "2PfC49rYMD3v",
        "outputId": "8761771b-b0b2-4afc-ddcc-fa3e0e344a69"
      },
      "id": "2PfC49rYMD3v",
      "execution_count": null,
      "outputs": [
        {
          "output_type": "execute_result",
          "data": {
            "application/vnd.google.colaboratory.intrinsic+json": {
              "type": "string"
            },
            "text/plain": [
              "'Hello World'"
            ]
          },
          "metadata": {},
          "execution_count": 29
        }
      ]
    },
    {
      "cell_type": "code",
      "source": [
        "stringMessage = \"Hello World\"\n",
        "print(stringMessage)"
      ],
      "metadata": {
        "colab": {
          "base_uri": "https://localhost:8080/"
        },
        "id": "mIgATel7MFR-",
        "outputId": "1b15198f-6c58-4a00-bbd3-74f216c34ee7"
      },
      "id": "mIgATel7MFR-",
      "execution_count": null,
      "outputs": [
        {
          "output_type": "stream",
          "name": "stdout",
          "text": [
            "Hello World\n"
          ]
        }
      ]
    },
    {
      "cell_type": "code",
      "source": [
        "stringMessage = 'Hello World'\n",
        "print(stringMessage)"
      ],
      "metadata": {
        "colab": {
          "base_uri": "https://localhost:8080/"
        },
        "id": "PxM36wBvMKxI",
        "outputId": "83f96c38-006e-4e1f-a3e2-00fe9f0bba39"
      },
      "id": "PxM36wBvMKxI",
      "execution_count": null,
      "outputs": [
        {
          "output_type": "stream",
          "name": "stdout",
          "text": [
            "Hello World\n"
          ]
        }
      ]
    },
    {
      "cell_type": "markdown",
      "id": "f00208cc-adc9-4a36-92b4-1d54f08c3d7a",
      "metadata": {
        "id": "f00208cc-adc9-4a36-92b4-1d54f08c3d7a"
      },
      "source": [
        "Is there a way to determine the type of an item is? In Python we have a the *type()* function. In the cell below, find out the type of  3, 3.0, '3', '3.0'  and [3, 3.0,'3', '3.0'].\n",
        "> We are going to use functions a lot, before long you will understand exactly how they work and even know how to create your own, but for now just think of them as a way to *ask* Python to do some work.  In the cell is known as **calling** the *type* function.  Functions have a name followed by left parenthesis, a data item and end with a right parenthesis."
      ]
    },
    {
      "cell_type": "code",
      "execution_count": null,
      "id": "112bf20b-79c2-43cd-9524-ed3fcd5ff9e0",
      "metadata": {
        "colab": {
          "base_uri": "https://localhost:8080/"
        },
        "id": "112bf20b-79c2-43cd-9524-ed3fcd5ff9e0",
        "outputId": "7ede10fe-862e-4b46-ab69-c27acdaad42e"
      },
      "outputs": [
        {
          "output_type": "execute_result",
          "data": {
            "text/plain": [
              "int"
            ]
          },
          "metadata": {},
          "execution_count": 34
        }
      ],
      "source": [
        "type(3) #use function TYPE to find type"
      ]
    },
    {
      "cell_type": "code",
      "source": [
        "type (3.0)"
      ],
      "metadata": {
        "colab": {
          "base_uri": "https://localhost:8080/"
        },
        "id": "UHzRohlTM0ka",
        "outputId": "28e4c783-5191-4801-f633-34d198cb8d9e"
      },
      "id": "UHzRohlTM0ka",
      "execution_count": null,
      "outputs": [
        {
          "output_type": "execute_result",
          "data": {
            "text/plain": [
              "float"
            ]
          },
          "metadata": {},
          "execution_count": 35
        }
      ]
    },
    {
      "cell_type": "code",
      "source": [
        "type ('3')"
      ],
      "metadata": {
        "colab": {
          "base_uri": "https://localhost:8080/"
        },
        "id": "Y2CTi2MBM2Fm",
        "outputId": "24ac34bf-6677-4b60-f1a0-491907907b9c"
      },
      "id": "Y2CTi2MBM2Fm",
      "execution_count": null,
      "outputs": [
        {
          "output_type": "execute_result",
          "data": {
            "text/plain": [
              "str"
            ]
          },
          "metadata": {},
          "execution_count": 36
        }
      ]
    },
    {
      "cell_type": "code",
      "source": [
        "type ('3.0')"
      ],
      "metadata": {
        "colab": {
          "base_uri": "https://localhost:8080/"
        },
        "id": "hxhc2A7MM3US",
        "outputId": "11b33533-5231-4f5b-9fe1-219f740d3342"
      },
      "id": "hxhc2A7MM3US",
      "execution_count": null,
      "outputs": [
        {
          "output_type": "execute_result",
          "data": {
            "text/plain": [
              "str"
            ]
          },
          "metadata": {},
          "execution_count": 37
        }
      ]
    },
    {
      "cell_type": "code",
      "source": [
        "type (True)"
      ],
      "metadata": {
        "colab": {
          "base_uri": "https://localhost:8080/"
        },
        "id": "hBPCdE9zNJIr",
        "outputId": "eaee1589-1da0-4b70-a573-e3fe3b2b15aa"
      },
      "id": "hBPCdE9zNJIr",
      "execution_count": null,
      "outputs": [
        {
          "output_type": "execute_result",
          "data": {
            "text/plain": [
              "bool"
            ]
          },
          "metadata": {},
          "execution_count": 38
        }
      ]
    },
    {
      "cell_type": "markdown",
      "id": "2dda7b13-5322-4cb2-9984-7707075fb87f",
      "metadata": {
        "tags": [],
        "id": "2dda7b13-5322-4cb2-9984-7707075fb87f"
      },
      "source": [
        "What are the different types?  Here is a simple table, we will expand on this later.\n",
        "\n",
        "| Data Type | Python Expressions | Description                   | Example |\n",
        "|-----------|--------------------|-------------------------------|---------|\n",
        "|integer    | int                | A whole numeber               | 143267  |\n",
        "|decimal    | float              | A floating point number       | 3.13159 |\n",
        "|string     | str                | Set of characters in quotes   | \"Hello\" |\n",
        "|boolean    | bool               | anything evaluates true/false | True    |\n",
        "|List       | list               | An ordered list of values     | [1,4,5] |\n",
        "\n",
        "\n",
        "\n",
        "### How do we store values?\n",
        "\n",
        "To be useful we need a way to store values in computer's memory.  To this we need to be able to identify a location in memory.  We could use a memory address but that could get confusing, instead we given the location a name, and identifier.  In programming we call this a variable.  A ***variable*** is the name given to a part of the computers memory, designed to store aprticular data item.  It is called a variable because the value stored may change or vary as the program executes. The values we typed in above are know as literals. A **literal** is a constant whose *name* is the written representaiton of the value.  A ***constant*** is a data item with a name amd a value that will remian the same during the executation of a program.  We will use constants later.\n",
        "\n",
        "To store a value, we create a variable and then assign the value.  To assign  a value we use the equals (**=**) sign."
      ]
    },
    {
      "cell_type": "code",
      "execution_count": null,
      "id": "1a4fdd7b-c2b2-4be3-be60-98fcb3da27d9",
      "metadata": {
        "colab": {
          "base_uri": "https://localhost:8080/"
        },
        "id": "1a4fdd7b-c2b2-4be3-be60-98fcb3da27d9",
        "outputId": "0094a46b-7e53-4fbe-8de1-f706edf9e798"
      },
      "outputs": [
        {
          "output_type": "stream",
          "name": "stdout",
          "text": [
            "Blue\n",
            "2022\n"
          ]
        }
      ],
      "source": [
        "color = 'Blue' #variables are case sensitive\n",
        "year = 2022\n",
        "temperature = 29.5\n",
        "\n",
        "print(color) #used to output values\n",
        "print(year)"
      ]
    },
    {
      "cell_type": "markdown",
      "id": "0a2fb99e-a477-4f13-ae2e-510eab3e3d44",
      "metadata": {
        "id": "0a2fb99e-a477-4f13-ae2e-510eab3e3d44"
      },
      "source": [
        "What is the type of a variable?  We can use the type() function to find out.\n",
        "> Notice how we can use a *variable* just like we use a *value* in the above cells"
      ]
    },
    {
      "cell_type": "code",
      "execution_count": null,
      "id": "41ca8219-83d6-4aca-92bf-3835fdaa19fb",
      "metadata": {
        "colab": {
          "base_uri": "https://localhost:8080/"
        },
        "id": "41ca8219-83d6-4aca-92bf-3835fdaa19fb",
        "outputId": "14393879-f939-40ff-a28f-a805e828963e"
      },
      "outputs": [
        {
          "output_type": "execute_result",
          "data": {
            "text/plain": [
              "str"
            ]
          },
          "metadata": {},
          "execution_count": 48
        }
      ],
      "source": [
        "type(color)"
      ]
    },
    {
      "cell_type": "code",
      "source": [
        "type(year)"
      ],
      "metadata": {
        "colab": {
          "base_uri": "https://localhost:8080/"
        },
        "id": "Ft8g_KdBOFw6",
        "outputId": "35ca8a5b-863b-438c-b3a0-821765e5b094"
      },
      "id": "Ft8g_KdBOFw6",
      "execution_count": null,
      "outputs": [
        {
          "output_type": "execute_result",
          "data": {
            "text/plain": [
              "int"
            ]
          },
          "metadata": {},
          "execution_count": 49
        }
      ]
    },
    {
      "cell_type": "code",
      "source": [
        "type(temperature)"
      ],
      "metadata": {
        "colab": {
          "base_uri": "https://localhost:8080/"
        },
        "id": "JIZOuMYKOK4w",
        "outputId": "826b7c36-59a3-40a2-9f94-1856674a9fce"
      },
      "id": "JIZOuMYKOK4w",
      "execution_count": null,
      "outputs": [
        {
          "output_type": "execute_result",
          "data": {
            "text/plain": [
              "float"
            ]
          },
          "metadata": {},
          "execution_count": 51
        }
      ]
    },
    {
      "cell_type": "markdown",
      "id": "56ca1fd8-bddf-4bd7-af91-6487badc429f",
      "metadata": {
        "id": "56ca1fd8-bddf-4bd7-af91-6487badc429f"
      },
      "source": [
        "We can assigned group items to variables"
      ]
    },
    {
      "cell_type": "code",
      "execution_count": null,
      "id": "237a9327-373d-4224-92cf-8d922aa873a5",
      "metadata": {
        "colab": {
          "base_uri": "https://localhost:8080/"
        },
        "id": "237a9327-373d-4224-92cf-8d922aa873a5",
        "outputId": "509332a4-2756-41a3-cc74-1cd7a37308c1"
      },
      "outputs": [
        {
          "output_type": "stream",
          "name": "stdout",
          "text": [
            "['Tom', 'Mary', 'Lance']\n"
          ]
        },
        {
          "output_type": "execute_result",
          "data": {
            "text/plain": [
              "list"
            ]
          },
          "metadata": {},
          "execution_count": 60
        }
      ],
      "source": [
        "customers = [\"Tom\", \"Mary\", \"Lance\"]\n",
        "print(customers)\n",
        "type(customers)"
      ]
    },
    {
      "cell_type": "markdown",
      "id": "277f56d4-e52a-411d-8cae-5d0a84abde80",
      "metadata": {
        "id": "277f56d4-e52a-411d-8cae-5d0a84abde80"
      },
      "source": [
        "We can change a variable"
      ]
    },
    {
      "cell_type": "code",
      "source": [
        "#Value was blue for variable color\n",
        "print(color)\n",
        "\n",
        "#changing value of color to red\n",
        "color = \"red\"\n",
        "\n",
        "#checking if value of color changed from blue to red\n",
        "print(color)"
      ],
      "metadata": {
        "colab": {
          "base_uri": "https://localhost:8080/"
        },
        "id": "QGVeSb4jP5Mz",
        "outputId": "c9fccd77-8263-4af3-b176-73b198f34d24"
      },
      "id": "QGVeSb4jP5Mz",
      "execution_count": null,
      "outputs": [
        {
          "output_type": "stream",
          "name": "stdout",
          "text": [
            "Blue\n",
            "red\n"
          ]
        }
      ]
    },
    {
      "cell_type": "markdown",
      "id": "257d6ae7-d4bf-4c75-aae3-800511733978",
      "metadata": {
        "tags": [],
        "id": "257d6ae7-d4bf-4c75-aae3-800511733978"
      },
      "source": [
        "#### Naming rules\n",
        "\n",
        "Variable names must be unique and they are case sensitive.\n",
        "* Only letters, numbers, and the underscore character (_) can be used  ```this.is.not.allowed```\n",
        "* No spaces ```this is not allowed```\n",
        "* No quotes ```“NotAllowed”```\n",
        "* Can’t start with a number ```6notAllowed```\n",
        "* Can't be a keyword  ```import``` ```for``` ```while``` ```if```\n",
        "\n",
        "#### Naming conventions\n",
        "We will learn other naming conventions, but for now\n",
        "* variable names should be meaningfuly (can someone else understand)\n",
        "* seperate words with underscores ```monthly_sales```  (this is called snake_case)\n",
        "\n",
        "\n",
        "\n",
        "# Perform Operations\n",
        "\n",
        "There are six basic computer operations.\n",
        "\n",
        "1. Receive Informaiton.\n",
        "1. Output information.\n",
        "1. Assign a value to a variable. There are three cases where you may assign a value to variable.\n",
        "    * give data an initial value.\n",
        "    * assign a value as a results of some processing\n",
        "    * to keep a piece of information for later use.\n",
        "1. Perform arithmetic.\n",
        "1. Compare two variables and select appropriate action.\n",
        "1. Repeat a group of actions.\n",
        "\n",
        "> When designing an algorithm you need to keep in mind that the set of instruction written will eventually be performed by a computer.  That is your words and phrases in the pseudocode which are in line with computer operations, the translation form pseudocode to specific programming language becomes quite simple.\n",
        "\n",
        "## Receive Information\n",
        "\n",
        "Python has a *input* function that will allow you to enter information form the keyboard."
      ]
    },
    {
      "cell_type": "code",
      "source": [
        "input(\"What is your favourite color? \")"
      ],
      "metadata": {
        "colab": {
          "base_uri": "https://localhost:8080/",
          "height": 53
        },
        "id": "GdYyg3HGSm01",
        "outputId": "bc7c8c46-e397-404d-d580-6601b37935d2"
      },
      "id": "GdYyg3HGSm01",
      "execution_count": null,
      "outputs": [
        {
          "name": "stdout",
          "output_type": "stream",
          "text": [
            "What is your favourite color? blue\n"
          ]
        },
        {
          "output_type": "execute_result",
          "data": {
            "application/vnd.google.colaboratory.intrinsic+json": {
              "type": "string"
            },
            "text/plain": [
              "'blue'"
            ]
          },
          "metadata": {},
          "execution_count": 81
        }
      ]
    },
    {
      "cell_type": "markdown",
      "id": "fb98df5c-aaba-47c6-b210-a69c413ed123",
      "metadata": {
        "id": "fb98df5c-aaba-47c6-b210-a69c413ed123"
      },
      "source": [
        "How does *input* work?\n",
        "1. The interpreter see the call to the *input* function, it take the prompt text and displays it for the user\n",
        "2. The interpreter then waits for the user to type in a repsonse, which the user completes by pressing the return key (also called the enter key)\n",
        "3. Finally the text the user types in is passed back to your code.\n",
        "\n",
        "Now, the text isint going to be useful if we cant remember it for later.  To do this we store the *return value* to a variable"
      ]
    },
    {
      "cell_type": "code",
      "execution_count": null,
      "id": "5636b5db-1114-40bb-a88f-47874c11890e",
      "metadata": {
        "colab": {
          "base_uri": "https://localhost:8080/"
        },
        "id": "5636b5db-1114-40bb-a88f-47874c11890e",
        "outputId": "619e79d9-d73f-4db1-c91e-f7e9c16432e2"
      },
      "outputs": [
        {
          "name": "stdout",
          "output_type": "stream",
          "text": [
            "What is your favourite color? blue\n"
          ]
        }
      ],
      "source": [
        "favouritecolor = input(\"What is your favourite color? \") #assign the input to a variable"
      ]
    },
    {
      "cell_type": "code",
      "source": [
        "favouritecolor"
      ],
      "metadata": {
        "colab": {
          "base_uri": "https://localhost:8080/",
          "height": 35
        },
        "id": "fWecOpfuTBT7",
        "outputId": "51048027-2253-4933-c79b-acd15f628720"
      },
      "id": "fWecOpfuTBT7",
      "execution_count": null,
      "outputs": [
        {
          "output_type": "execute_result",
          "data": {
            "application/vnd.google.colaboratory.intrinsic+json": {
              "type": "string"
            },
            "text/plain": [
              "'blue'"
            ]
          },
          "metadata": {},
          "execution_count": 83
        }
      ]
    },
    {
      "cell_type": "markdown",
      "id": "25087e0c-c18a-4478-b79a-01fbcefb8bc9",
      "metadata": {
        "id": "25087e0c-c18a-4478-b79a-01fbcefb8bc9"
      },
      "source": [
        "## Output Information\n",
        "\n",
        "Python has a *print* function that can output a message to the screen"
      ]
    },
    {
      "cell_type": "code",
      "execution_count": null,
      "id": "f600bbf8-e6d3-44f3-8301-86952bf50156",
      "metadata": {
        "colab": {
          "base_uri": "https://localhost:8080/"
        },
        "id": "f600bbf8-e6d3-44f3-8301-86952bf50156",
        "outputId": "03648eb2-b833-4b53-c050-0f96527b2d28"
      },
      "outputs": [
        {
          "output_type": "stream",
          "name": "stdout",
          "text": [
            "Hello World\n"
          ]
        }
      ],
      "source": [
        "print(\"Hello World\")"
      ]
    },
    {
      "cell_type": "markdown",
      "id": "5964a396-2596-47ba-b7b9-ca950cc6fa52",
      "metadata": {
        "id": "5964a396-2596-47ba-b7b9-ca950cc6fa52"
      },
      "source": [
        "The interpreter sees the call to the *print* function, it takes the message text and displys it to the user.\n",
        "\n",
        "Can we print variables?"
      ]
    },
    {
      "cell_type": "code",
      "execution_count": null,
      "id": "d09bdd9a-f5f0-426e-baf6-3d20472f19a5",
      "metadata": {
        "colab": {
          "base_uri": "https://localhost:8080/"
        },
        "id": "d09bdd9a-f5f0-426e-baf6-3d20472f19a5",
        "outputId": "3b742f70-d1cc-4daa-8c25-11f3087476b5"
      },
      "outputs": [
        {
          "output_type": "stream",
          "name": "stdout",
          "text": [
            "blue\n",
            "2022\n",
            "29.5\n",
            "[24, 'sushi', 3, 'burger']\n",
            "['Tom', 'Mary', 'Sharon']\n"
          ]
        }
      ],
      "source": [
        "print(favouritecolor)\n",
        "print(year)\n",
        "print(temperature)\n",
        "print(list)\n",
        "print(customers)"
      ]
    },
    {
      "cell_type": "markdown",
      "id": "77cb490e-4c83-4073-97b2-0c8ca66f0158",
      "metadata": {
        "id": "77cb490e-4c83-4073-97b2-0c8ca66f0158"
      },
      "source": [
        "As you can see the *print* function will take a **literial** or a **variable**.  We will see later that the *print* function can do more, but this is a good start.\n",
        "\n",
        "## Assign a value to a variable\n",
        "\n",
        "We have seen each of three cases, but I will repeat here for clarity.\n",
        "\n",
        "I have added some *comments* to the code.  Comments are just notes after the **#** marks.  We use comments to explain the purpose of the code.  Comments can be thought of as helpful pseudocode."
      ]
    },
    {
      "cell_type": "code",
      "execution_count": null,
      "id": "9311e0b3-9933-4839-8263-a8c963bcef03",
      "metadata": {
        "colab": {
          "base_uri": "https://localhost:8080/"
        },
        "id": "9311e0b3-9933-4839-8263-a8c963bcef03",
        "outputId": "9e8317e7-559e-4ef5-9651-c31c779a8d41"
      },
      "outputs": [
        {
          "output_type": "stream",
          "name": "stdout",
          "text": [
            "What is your name? Aurelie\n",
            "Aurelie , your coca is ready!\n"
          ]
        }
      ],
      "source": [
        "# example of giving a variable an initial value\n",
        "drink = \"coca\"\n",
        "\n",
        "# example of assigning a value as a result of some processing\n",
        "name = input(\"What is your name? \")\n",
        "\n",
        "# example of using a piece of information later\n",
        "print(name,\", your\", drink, \"is ready!\")\n"
      ]
    },
    {
      "cell_type": "markdown",
      "id": "7882c412-459a-413f-aed8-44bd52789a47",
      "metadata": {
        "id": "7882c412-459a-413f-aed8-44bd52789a47"
      },
      "source": [
        "## Perform Arithmetic\n",
        "\n",
        "\n",
        "| Operation | Description           | Example       |  Result  |\n",
        "|:---------:|-----------------------|---------------|----------|\n",
        "| ```+```   | Addition              | ```3 + 2.2``` | ```5.2```|\n",
        "| ```-```   | Subtraction           | ```5 - 2```   | ```3```  |\n",
        "| ```*```   | Multiplication        | ```3 * 8```   | ```24``` |\n",
        "| ```**```  | Raise to the power of | ```3 ** 2```  | ```9```  |\n",
        "| ```/```   | Division              | ```5/2```     | ```2.5```|\n",
        "| ```//```  | Integer Division      | ```5/2```     | ```2```  |\n",
        "| ```%```   | Modulo                | ```5%2```     | ```1```  |\n",
        "\n",
        "Use the cell below to try out some of the examples"
      ]
    },
    {
      "cell_type": "code",
      "execution_count": null,
      "id": "4f02a3c4-92df-4b56-9699-8627467a6e14",
      "metadata": {
        "colab": {
          "base_uri": "https://localhost:8080/"
        },
        "id": "4f02a3c4-92df-4b56-9699-8627467a6e14",
        "outputId": "c5dd837e-c593-48aa-9cfe-0a9aefc2f273"
      },
      "outputs": [
        {
          "output_type": "execute_result",
          "data": {
            "text/plain": [
              "5.2"
            ]
          },
          "metadata": {},
          "execution_count": 106
        }
      ],
      "source": [
        "3+2.2"
      ]
    },
    {
      "cell_type": "markdown",
      "id": "26d55bd3-e43b-4bb4-b0f9-cc3c46152ea0",
      "metadata": {
        "id": "26d55bd3-e43b-4bb4-b0f9-cc3c46152ea0"
      },
      "source": [
        "```3 + 2.2``` is called an expression.  When you evaluate an expression you can store the result into a variable"
      ]
    },
    {
      "cell_type": "code",
      "execution_count": null,
      "id": "b9db7b35-3936-48a4-b3ae-957fc9ac6468",
      "metadata": {
        "id": "b9db7b35-3936-48a4-b3ae-957fc9ac6468"
      },
      "outputs": [],
      "source": [
        "sum = 3+2.2"
      ]
    },
    {
      "cell_type": "markdown",
      "id": "37f7414e-0a5f-42ba-9e21-e37ab1e1a27e",
      "metadata": {
        "id": "37f7414e-0a5f-42ba-9e21-e37ab1e1a27e"
      },
      "source": [
        "You can print expresisons"
      ]
    },
    {
      "cell_type": "code",
      "execution_count": null,
      "id": "9bb15522-6a92-40a1-b83e-571081a9b66d",
      "metadata": {
        "colab": {
          "base_uri": "https://localhost:8080/"
        },
        "id": "9bb15522-6a92-40a1-b83e-571081a9b66d",
        "outputId": "dd6c54a9-a320-4674-d4a6-39a11d535189"
      },
      "outputs": [
        {
          "output_type": "stream",
          "name": "stdout",
          "text": [
            "5.2\n"
          ]
        }
      ],
      "source": [
        "print(3+2.2)"
      ]
    },
    {
      "cell_type": "markdown",
      "id": "99c9524a-68a8-41c9-9266-1ce1f07e39ec",
      "metadata": {
        "id": "99c9524a-68a8-41c9-9266-1ce1f07e39ec"
      },
      "source": [
        "Can perform arithmetic with variables"
      ]
    },
    {
      "cell_type": "code",
      "execution_count": null,
      "id": "1b877516-548e-4f00-88c2-d9ce1651d2c0",
      "metadata": {
        "colab": {
          "base_uri": "https://localhost:8080/"
        },
        "id": "1b877516-548e-4f00-88c2-d9ce1651d2c0",
        "outputId": "0ef3ec99-903b-4c8c-dec9-e5086fc4e074"
      },
      "outputs": [
        {
          "output_type": "stream",
          "name": "stdout",
          "text": [
            "5.2\n"
          ]
        }
      ],
      "source": [
        "x = 3\n",
        "y = 2.2\n",
        "sum = x + y\n",
        "print(sum)"
      ]
    },
    {
      "cell_type": "markdown",
      "id": "07d15980-3e1a-4a0c-8e68-599c09591dda",
      "metadata": {
        "id": "07d15980-3e1a-4a0c-8e68-599c09591dda"
      },
      "source": [
        "Lets sum two number input form the user"
      ]
    },
    {
      "cell_type": "code",
      "execution_count": null,
      "id": "3c090a42-004e-4922-bd72-ed59ff88cb53",
      "metadata": {
        "colab": {
          "base_uri": "https://localhost:8080/"
        },
        "id": "3c090a42-004e-4922-bd72-ed59ff88cb53",
        "outputId": "a84958ac-a61c-4b66-bbbe-4cc6b35a7460"
      },
      "outputs": [
        {
          "output_type": "stream",
          "name": "stdout",
          "text": [
            "Enter the first number: 3\n",
            "Enter the second number: 2.2\n",
            "32.2\n"
          ]
        }
      ],
      "source": [
        "firstNumber = input(\"Enter the first number: \")\n",
        "secondNumber = input(\"Enter the second number: \")\n",
        "total = firstNumber + secondNumber\n",
        "print(total)"
      ]
    },
    {
      "cell_type": "markdown",
      "id": "9e2da386-c608-408e-9dee-af674c646c06",
      "metadata": {
        "id": "9e2da386-c608-408e-9dee-af674c646c06"
      },
      "source": [
        "What happened?  It didn't add the input, it joined(concatenated) the input.  Lets run the next two cell to investigate."
      ]
    },
    {
      "cell_type": "code",
      "execution_count": null,
      "id": "43dc5d55-891a-4667-888c-63a681ba0a26",
      "metadata": {
        "colab": {
          "base_uri": "https://localhost:8080/"
        },
        "id": "43dc5d55-891a-4667-888c-63a681ba0a26",
        "outputId": "85735cba-1d24-46e1-cfb1-7e4ceca8773b"
      },
      "outputs": [
        {
          "output_type": "execute_result",
          "data": {
            "text/plain": [
              "str"
            ]
          },
          "metadata": {},
          "execution_count": 115
        }
      ],
      "source": [
        "type(firstNumber) #firstNumber, secondNumber are all STRINGS"
      ]
    },
    {
      "cell_type": "code",
      "execution_count": null,
      "id": "3abe5441-1764-49eb-9f25-ccce75269cdd",
      "metadata": {
        "colab": {
          "base_uri": "https://localhost:8080/"
        },
        "id": "3abe5441-1764-49eb-9f25-ccce75269cdd",
        "outputId": "1a2f265a-95c8-46ce-f3b5-d782819791f8"
      },
      "outputs": [
        {
          "output_type": "stream",
          "name": "stdout",
          "text": [
            "Enter the first number: 1\n",
            "Enter the second number: 2\n",
            "3\n"
          ]
        }
      ],
      "source": [
        "#convert to integer\n",
        "firstNumber = int(input(\"Enter the first number: \"))\n",
        "secondNumber = int(input(\"Enter the second number: \"))\n",
        "total = firstNumber + secondNumber\n",
        "print(total)"
      ]
    },
    {
      "cell_type": "markdown",
      "id": "2afd9f3d-c0d9-421c-bfe5-f76538b82793",
      "metadata": {
        "id": "2afd9f3d-c0d9-421c-bfe5-f76538b82793"
      },
      "source": [
        "So the data type of the variables were string.  So the *input* function must return a *str* data type.\n",
        "\n",
        "There is a way we can convert, we can use the *int* function.  So \"12\" is a string os the characters '1' followed by the character '2'.  To convert the string we use the int(\"12\"), and this will return the number 12."
      ]
    },
    {
      "cell_type": "code",
      "execution_count": null,
      "id": "c3e8c802-0638-4b59-9067-24fbb94acca6",
      "metadata": {
        "id": "c3e8c802-0638-4b59-9067-24fbb94acca6"
      },
      "outputs": [],
      "source": [
        "#See above"
      ]
    },
    {
      "cell_type": "markdown",
      "id": "73a4d763-46da-4c8d-a61c-3acfa8e336b5",
      "metadata": {
        "id": "73a4d763-46da-4c8d-a61c-3acfa8e336b5"
      },
      "source": [
        "## Compare Two Variables\n",
        "\n",
        "Here is a simple program prints out the maximun of two numbers.  This also demonstrates some features of the Python language.\n",
        "\n",
        "> New lines are used to separate logical statements (similar to a period at the end of a sentence).\n",
        ">\n",
        "> Whitespaces (spaces and tabs) are used to indicate which statements should be grouped together (called blocks) \n",
        ">\n",
        "> Colons (:) are used to indicate the continuation of an idea at a deeper level. \n",
        "\n",
        "Try changing the numbers, and rerun the cell.  What happens if you swap *>* for *<*?   What is *<*? We use a *relational operator* to ask a True/False question about the realtionship between two variables.  The followinf table show the relational operators used in Python. \n",
        "\n",
        "\n",
        "| Operation | Description            | Example           |  Result     |\n",
        "|:---------:|------------------------|-------------------|-------------|\n",
        "| ```<```   | Less than              | ```3 < 2```       | ```False``` |\n",
        "| ```>```   | Greater than           | ```3 > 2```       | ```True```  |\n",
        "| ```<=```  | Less than or equal     | ```3 <= 2```      | ```False``` |\n",
        "| ```>=```  | greater than or equal  | ```3 >= 2```      | ```True```  |\n",
        "| ```==```  | equal to               | ```3 == 2```      | ```False``` |\n",
        "| ```!=```  | not equal to           | ```3 != 2```      | ```True```  |\n",
        "| ```not``` | not                    | ```not(3 == 2)``` | ```True```  |"
      ]
    },
    {
      "cell_type": "code",
      "execution_count": null,
      "id": "b51f5001-2df5-42d1-99e8-850a4994048a",
      "metadata": {
        "colab": {
          "base_uri": "https://localhost:8080/"
        },
        "id": "b51f5001-2df5-42d1-99e8-850a4994048a",
        "outputId": "67ad5778-ba4c-4f0b-baf8-3c4e8f12a0c3"
      },
      "outputs": [
        {
          "output_type": "stream",
          "name": "stdout",
          "text": [
            "y is greater than x\n"
          ]
        }
      ],
      "source": [
        "x = 3\n",
        "y = 7\n",
        "if x > y:\n",
        "  print(\"x is greater than y\")\n",
        "else:\n",
        "    print(\"y is greater than x\")"
      ]
    },
    {
      "cell_type": "markdown",
      "id": "3f2fd3f9-31d2-49a1-84bc-9b71fe393a77",
      "metadata": {
        "id": "3f2fd3f9-31d2-49a1-84bc-9b71fe393a77"
      },
      "source": [
        "Notice the keyword are highlighted in a different colour.  This example uses a boolean expresison: ```first_number > second_number```.  A boolean expression is an *epxression* the evaluates to *True* or *False*.  The expresiosn uses a *relational operator*.  \n",
        "\n",
        " Can you write a version that prompts the user for the numbers?  What happens if you enter in the same number?"
      ]
    },
    {
      "cell_type": "code",
      "execution_count": null,
      "id": "137a88a9-e2eb-4ace-b1cc-b7fdf260941e",
      "metadata": {
        "colab": {
          "base_uri": "https://localhost:8080/",
          "height": 550
        },
        "id": "137a88a9-e2eb-4ace-b1cc-b7fdf260941e",
        "outputId": "38466d25-cff3-41a0-cdfc-4f54b2a759f1"
      },
      "outputs": [
        {
          "output_type": "error",
          "ename": "KeyboardInterrupt",
          "evalue": "ignored",
          "traceback": [
            "\u001b[0;31m---------------------------------------------------------------------------\u001b[0m",
            "\u001b[0;31mKeyboardInterrupt\u001b[0m                         Traceback (most recent call last)",
            "\u001b[0;32m/usr/local/lib/python3.7/dist-packages/ipykernel/kernelbase.py\u001b[0m in \u001b[0;36m_input_request\u001b[0;34m(self, prompt, ident, parent, password)\u001b[0m\n\u001b[1;32m    728\u001b[0m             \u001b[0;32mtry\u001b[0m\u001b[0;34m:\u001b[0m\u001b[0;34m\u001b[0m\u001b[0;34m\u001b[0m\u001b[0m\n\u001b[0;32m--> 729\u001b[0;31m                 \u001b[0mident\u001b[0m\u001b[0;34m,\u001b[0m \u001b[0mreply\u001b[0m \u001b[0;34m=\u001b[0m \u001b[0mself\u001b[0m\u001b[0;34m.\u001b[0m\u001b[0msession\u001b[0m\u001b[0;34m.\u001b[0m\u001b[0mrecv\u001b[0m\u001b[0;34m(\u001b[0m\u001b[0mself\u001b[0m\u001b[0;34m.\u001b[0m\u001b[0mstdin_socket\u001b[0m\u001b[0;34m,\u001b[0m \u001b[0;36m0\u001b[0m\u001b[0;34m)\u001b[0m\u001b[0;34m\u001b[0m\u001b[0;34m\u001b[0m\u001b[0m\n\u001b[0m\u001b[1;32m    730\u001b[0m             \u001b[0;32mexcept\u001b[0m \u001b[0mException\u001b[0m\u001b[0;34m:\u001b[0m\u001b[0;34m\u001b[0m\u001b[0;34m\u001b[0m\u001b[0m\n",
            "\u001b[0;32m/usr/local/lib/python3.7/dist-packages/jupyter_client/session.py\u001b[0m in \u001b[0;36mrecv\u001b[0;34m(self, socket, mode, content, copy)\u001b[0m\n\u001b[1;32m    802\u001b[0m         \u001b[0;32mtry\u001b[0m\u001b[0;34m:\u001b[0m\u001b[0;34m\u001b[0m\u001b[0;34m\u001b[0m\u001b[0m\n\u001b[0;32m--> 803\u001b[0;31m             \u001b[0mmsg_list\u001b[0m \u001b[0;34m=\u001b[0m \u001b[0msocket\u001b[0m\u001b[0;34m.\u001b[0m\u001b[0mrecv_multipart\u001b[0m\u001b[0;34m(\u001b[0m\u001b[0mmode\u001b[0m\u001b[0;34m,\u001b[0m \u001b[0mcopy\u001b[0m\u001b[0;34m=\u001b[0m\u001b[0mcopy\u001b[0m\u001b[0;34m)\u001b[0m\u001b[0;34m\u001b[0m\u001b[0;34m\u001b[0m\u001b[0m\n\u001b[0m\u001b[1;32m    804\u001b[0m         \u001b[0;32mexcept\u001b[0m \u001b[0mzmq\u001b[0m\u001b[0;34m.\u001b[0m\u001b[0mZMQError\u001b[0m \u001b[0;32mas\u001b[0m \u001b[0me\u001b[0m\u001b[0;34m:\u001b[0m\u001b[0;34m\u001b[0m\u001b[0;34m\u001b[0m\u001b[0m\n",
            "\u001b[0;32m/usr/local/lib/python3.7/dist-packages/zmq/sugar/socket.py\u001b[0m in \u001b[0;36mrecv_multipart\u001b[0;34m(self, flags, copy, track)\u001b[0m\n\u001b[1;32m    624\u001b[0m         \"\"\"\n\u001b[0;32m--> 625\u001b[0;31m         \u001b[0mparts\u001b[0m \u001b[0;34m=\u001b[0m \u001b[0;34m[\u001b[0m\u001b[0mself\u001b[0m\u001b[0;34m.\u001b[0m\u001b[0mrecv\u001b[0m\u001b[0;34m(\u001b[0m\u001b[0mflags\u001b[0m\u001b[0;34m,\u001b[0m \u001b[0mcopy\u001b[0m\u001b[0;34m=\u001b[0m\u001b[0mcopy\u001b[0m\u001b[0;34m,\u001b[0m \u001b[0mtrack\u001b[0m\u001b[0;34m=\u001b[0m\u001b[0mtrack\u001b[0m\u001b[0;34m)\u001b[0m\u001b[0;34m]\u001b[0m\u001b[0;34m\u001b[0m\u001b[0;34m\u001b[0m\u001b[0m\n\u001b[0m\u001b[1;32m    626\u001b[0m         \u001b[0;31m# have first part already, only loop while more to receive\u001b[0m\u001b[0;34m\u001b[0m\u001b[0;34m\u001b[0m\u001b[0;34m\u001b[0m\u001b[0m\n",
            "\u001b[0;32mzmq/backend/cython/socket.pyx\u001b[0m in \u001b[0;36mzmq.backend.cython.socket.Socket.recv\u001b[0;34m()\u001b[0m\n",
            "\u001b[0;32mzmq/backend/cython/socket.pyx\u001b[0m in \u001b[0;36mzmq.backend.cython.socket.Socket.recv\u001b[0;34m()\u001b[0m\n",
            "\u001b[0;32mzmq/backend/cython/socket.pyx\u001b[0m in \u001b[0;36mzmq.backend.cython.socket._recv_copy\u001b[0;34m()\u001b[0m\n",
            "\u001b[0;32m/usr/local/lib/python3.7/dist-packages/zmq/backend/cython/checkrc.pxd\u001b[0m in \u001b[0;36mzmq.backend.cython.checkrc._check_rc\u001b[0;34m()\u001b[0m\n",
            "\u001b[0;31mKeyboardInterrupt\u001b[0m: ",
            "\nDuring handling of the above exception, another exception occurred:\n",
            "\u001b[0;31mKeyboardInterrupt\u001b[0m                         Traceback (most recent call last)",
            "\u001b[0;32m<ipython-input-2-8f100ab9726a>\u001b[0m in \u001b[0;36m<module>\u001b[0;34m()\u001b[0m\n\u001b[0;32m----> 1\u001b[0;31m \u001b[0mx\u001b[0m \u001b[0;34m=\u001b[0m \u001b[0mint\u001b[0m\u001b[0;34m(\u001b[0m\u001b[0minput\u001b[0m\u001b[0;34m(\u001b[0m\u001b[0;34m\"Enter First number: \"\u001b[0m\u001b[0;34m)\u001b[0m\u001b[0;34m)\u001b[0m\u001b[0;34m\u001b[0m\u001b[0;34m\u001b[0m\u001b[0m\n\u001b[0m\u001b[1;32m      2\u001b[0m \u001b[0my\u001b[0m \u001b[0;34m=\u001b[0m \u001b[0mint\u001b[0m\u001b[0;34m(\u001b[0m\u001b[0minput\u001b[0m\u001b[0;34m(\u001b[0m\u001b[0;34m\"Enter Second number: \"\u001b[0m\u001b[0;34m)\u001b[0m\u001b[0;34m)\u001b[0m\u001b[0;34m\u001b[0m\u001b[0;34m\u001b[0m\u001b[0m\n\u001b[1;32m      3\u001b[0m \u001b[0;32mif\u001b[0m \u001b[0mx\u001b[0m \u001b[0;34m>\u001b[0m \u001b[0my\u001b[0m\u001b[0;34m:\u001b[0m\u001b[0;34m\u001b[0m\u001b[0;34m\u001b[0m\u001b[0m\n\u001b[1;32m      4\u001b[0m   \u001b[0mprint\u001b[0m\u001b[0;34m(\u001b[0m\u001b[0;34m\"First number is greater than Second number\"\u001b[0m\u001b[0;34m)\u001b[0m\u001b[0;34m\u001b[0m\u001b[0;34m\u001b[0m\u001b[0m\n\u001b[1;32m      5\u001b[0m \u001b[0;32melse\u001b[0m\u001b[0;34m:\u001b[0m\u001b[0;34m\u001b[0m\u001b[0;34m\u001b[0m\u001b[0m\n",
            "\u001b[0;32m/usr/local/lib/python3.7/dist-packages/ipykernel/kernelbase.py\u001b[0m in \u001b[0;36mraw_input\u001b[0;34m(self, prompt)\u001b[0m\n\u001b[1;32m    702\u001b[0m             \u001b[0mself\u001b[0m\u001b[0;34m.\u001b[0m\u001b[0m_parent_ident\u001b[0m\u001b[0;34m,\u001b[0m\u001b[0;34m\u001b[0m\u001b[0;34m\u001b[0m\u001b[0m\n\u001b[1;32m    703\u001b[0m             \u001b[0mself\u001b[0m\u001b[0;34m.\u001b[0m\u001b[0m_parent_header\u001b[0m\u001b[0;34m,\u001b[0m\u001b[0;34m\u001b[0m\u001b[0;34m\u001b[0m\u001b[0m\n\u001b[0;32m--> 704\u001b[0;31m             \u001b[0mpassword\u001b[0m\u001b[0;34m=\u001b[0m\u001b[0;32mFalse\u001b[0m\u001b[0;34m,\u001b[0m\u001b[0;34m\u001b[0m\u001b[0;34m\u001b[0m\u001b[0m\n\u001b[0m\u001b[1;32m    705\u001b[0m         )\n\u001b[1;32m    706\u001b[0m \u001b[0;34m\u001b[0m\u001b[0m\n",
            "\u001b[0;32m/usr/local/lib/python3.7/dist-packages/ipykernel/kernelbase.py\u001b[0m in \u001b[0;36m_input_request\u001b[0;34m(self, prompt, ident, parent, password)\u001b[0m\n\u001b[1;32m    732\u001b[0m             \u001b[0;32mexcept\u001b[0m \u001b[0mKeyboardInterrupt\u001b[0m\u001b[0;34m:\u001b[0m\u001b[0;34m\u001b[0m\u001b[0;34m\u001b[0m\u001b[0m\n\u001b[1;32m    733\u001b[0m                 \u001b[0;31m# re-raise KeyboardInterrupt, to truncate traceback\u001b[0m\u001b[0;34m\u001b[0m\u001b[0;34m\u001b[0m\u001b[0;34m\u001b[0m\u001b[0m\n\u001b[0;32m--> 734\u001b[0;31m                 \u001b[0;32mraise\u001b[0m \u001b[0mKeyboardInterrupt\u001b[0m\u001b[0;34m\u001b[0m\u001b[0;34m\u001b[0m\u001b[0m\n\u001b[0m\u001b[1;32m    735\u001b[0m             \u001b[0;32melse\u001b[0m\u001b[0;34m:\u001b[0m\u001b[0;34m\u001b[0m\u001b[0;34m\u001b[0m\u001b[0m\n\u001b[1;32m    736\u001b[0m                 \u001b[0;32mbreak\u001b[0m\u001b[0;34m\u001b[0m\u001b[0;34m\u001b[0m\u001b[0m\n",
            "\u001b[0;31mKeyboardInterrupt\u001b[0m: "
          ]
        }
      ],
      "source": [
        "x = int(input(\"Enter First number: \"))\n",
        "y = int(input(\"Enter Second number: \"))\n",
        "if x > y:\n",
        "  print(\"First number is greater than Second number\")\n",
        "else:\n",
        "  print(\"Second number is greater than First number\")"
      ]
    },
    {
      "cell_type": "code",
      "execution_count": null,
      "id": "7eb27a8b-f622-456b-9a87-bd9a3073ec30",
      "metadata": {
        "id": "7eb27a8b-f622-456b-9a87-bd9a3073ec30"
      },
      "outputs": [],
      "source": [
        "x = int(input(\"Enter First number: \"))\n",
        "y = int(input(\"Enter Second number: \"))\n",
        "if x == y:\n",
        "  print(\"First number is same as Second number\") \n",
        "elif x > y :\n",
        "  print(\"First number is greater than Second number\")\n",
        "else:\n",
        "  print(\"Second number is greater than First number\")"
      ]
    },
    {
      "cell_type": "markdown",
      "id": "54c8ec64-39d6-4e96-afb1-d36615f738bb",
      "metadata": {
        "id": "54c8ec64-39d6-4e96-afb1-d36615f738bb"
      },
      "source": [
        "#### Repeat a group of actions\n",
        "\n",
        "Lets say I want to print out a countdown.  I could do a print statement for each."
      ]
    },
    {
      "cell_type": "code",
      "execution_count": null,
      "id": "9e953c23-894f-48e8-a2ed-981e5e698af2",
      "metadata": {
        "id": "9e953c23-894f-48e8-a2ed-981e5e698af2"
      },
      "outputs": [],
      "source": [
        "print(10)\n",
        "print(9)\n",
        "print(8)\n",
        "print(7)\n",
        "print(6)\n",
        "print(5)\n",
        "print(4)\n",
        "print(3)\n",
        "print(2)\n",
        "print(1)\n",
        "print(\"Blast Off!\")"
      ]
    },
    {
      "cell_type": "markdown",
      "id": "eda408c4-53ac-4250-8982-4b96f62e75d8",
      "metadata": {
        "id": "eda408c4-53ac-4250-8982-4b96f62e75d8"
      },
      "source": [
        "Notice that each line is very similar, a print statement, and just printing out a different number.\n",
        "\n",
        "It turns out, repeating something is very common in programming and all languages provide way to do this easier.  In Python we can use the *for* loop. We will use a list of numbers.  Recall in Python a *list* is ordered.   There are other way to do this, but this notebook is to just give us a understanding.  We will explore loops in more detail in later notebooks."
      ]
    },
    {
      "cell_type": "code",
      "execution_count": 1,
      "id": "ca532d99-2994-46f4-a3a8-64506790c51a",
      "metadata": {
        "id": "ca532d99-2994-46f4-a3a8-64506790c51a",
        "colab": {
          "base_uri": "https://localhost:8080/"
        },
        "outputId": "2a9201ad-482d-4ab9-cffa-29eecacd4673"
      },
      "outputs": [
        {
          "output_type": "stream",
          "name": "stdout",
          "text": [
            "10\n",
            "9\n",
            "8\n",
            "7\n",
            "6\n",
            "5\n",
            "4\n",
            "3\n",
            "2\n",
            "1\n",
            "Blast Off!\n"
          ]
        }
      ],
      "source": [
        "for countdown in [10,9,8,7,6,5,4,3,2,1]:\n",
        "  print(countdown)\n",
        "print(\"Blast Off!\")"
      ]
    }
  ],
  "metadata": {
    "kernelspec": {
      "display_name": "Python 3 (ipykernel)",
      "language": "python",
      "name": "python3"
    },
    "language_info": {
      "codemirror_mode": {
        "name": "ipython",
        "version": 3
      },
      "file_extension": ".py",
      "mimetype": "text/x-python",
      "name": "python",
      "nbconvert_exporter": "python",
      "pygments_lexer": "ipython3",
      "version": "3.9.6"
    },
    "colab": {
      "name": "02 a_taste_of_python.ipynb",
      "provenance": [],
      "collapsed_sections": [
        "7882c412-459a-413f-aed8-44bd52789a47"
      ],
      "include_colab_link": true
    }
  },
  "nbformat": 4,
  "nbformat_minor": 5
}