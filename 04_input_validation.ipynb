{
  "cells": [
    {
      "cell_type": "markdown",
      "metadata": {
        "id": "view-in-github",
        "colab_type": "text"
      },
      "source": [
        "<a href=\"https://colab.research.google.com/github/ohreally24/BP/blob/main/04_input_validation.ipynb\" target=\"_parent\"><img src=\"https://colab.research.google.com/assets/colab-badge.svg\" alt=\"Open In Colab\"/></a>"
      ]
    },
    {
      "cell_type": "markdown",
      "id": "b5835b0c",
      "metadata": {
        "id": "b5835b0c"
      },
      "source": [
        "# Input Validation\n",
        "\n",
        "Input validation code verifies that user supplied data, such as text from the input() function, is formatted appropriately.\n",
        "\n",
        "* try/except\n",
        "* isdigit()\n",
        "* pyinputplus\n",
        "\n",
        "## try/except"
      ]
    },
    {
      "cell_type": "code",
      "execution_count": null,
      "id": "695b1f5f",
      "metadata": {
        "id": "695b1f5f"
      },
      "outputs": [],
      "source": [
        "while True:\n",
        "  try:\n",
        "    age = int(input('How old are you? '))\n",
        "    break\n",
        "  except ValueError:\n",
        "    print('Please enter a whole number')\n",
        "    \n",
        "print('Your age is: ' + str(age))"
      ]
    },
    {
      "cell_type": "markdown",
      "id": "acc7252b",
      "metadata": {
        "id": "acc7252b"
      },
      "source": [
        "## isdigit()"
      ]
    },
    {
      "cell_type": "code",
      "execution_count": 19,
      "id": "5f98c241",
      "metadata": {
        "id": "5f98c241",
        "colab": {
          "base_uri": "https://localhost:8080/"
        },
        "outputId": "8a449cda-326b-4575-e551-a3ac0f58387b"
      },
      "outputs": [
        {
          "output_type": "stream",
          "name": "stdout",
          "text": [
            "How old are you? 1\n",
            "You are 1\n"
          ]
        }
      ],
      "source": [
        "while True:\n",
        "  age2 = input('How old are you? ')\n",
        "  if age2.isdigit():\n",
        "    break\n",
        "  else:\n",
        "    print('You must enter a valid number')\n",
        "\n",
        "print('You are ' + str(age2))"
      ]
    },
    {
      "cell_type": "markdown",
      "id": "18c00dc3",
      "metadata": {
        "id": "18c00dc3"
      },
      "source": [
        "## Module: pyinputs"
      ]
    },
    {
      "cell_type": "code",
      "execution_count": 13,
      "id": "dfe1740b",
      "metadata": {
        "id": "dfe1740b",
        "colab": {
          "base_uri": "https://localhost:8080/"
        },
        "outputId": "76c9cc8a-11de-4886-f0e5-31916988e1d6"
      },
      "outputs": [
        {
          "output_type": "stream",
          "name": "stdout",
          "text": [
            "Collecting PyInputPlus\n",
            "  Downloading PyInputPlus-0.2.12.tar.gz (20 kB)\n",
            "  Installing build dependencies ... \u001b[?25l\u001b[?25hdone\n",
            "  Getting requirements to build wheel ... \u001b[?25l\u001b[?25hdone\n",
            "    Preparing wheel metadata ... \u001b[?25l\u001b[?25hdone\n",
            "Collecting pysimplevalidate>=0.2.7\n",
            "  Downloading PySimpleValidate-0.2.12.tar.gz (22 kB)\n",
            "  Installing build dependencies ... \u001b[?25l\u001b[?25hdone\n",
            "  Getting requirements to build wheel ... \u001b[?25l\u001b[?25hdone\n",
            "    Preparing wheel metadata ... \u001b[?25l\u001b[?25hdone\n",
            "Collecting stdiomask>=0.0.3\n",
            "  Downloading stdiomask-0.0.6.tar.gz (3.6 kB)\n",
            "  Installing build dependencies ... \u001b[?25l\u001b[?25hdone\n",
            "  Getting requirements to build wheel ... \u001b[?25l\u001b[?25hdone\n",
            "    Preparing wheel metadata ... \u001b[?25l\u001b[?25hdone\n",
            "Building wheels for collected packages: PyInputPlus, pysimplevalidate, stdiomask\n",
            "  Building wheel for PyInputPlus (PEP 517) ... \u001b[?25l\u001b[?25hdone\n",
            "  Created wheel for PyInputPlus: filename=PyInputPlus-0.2.12-py3-none-any.whl size=11315 sha256=aa7025fa1ba847561c457593ac2ea79deabb680890dfc6402b9d99e90be3f5f4\n",
            "  Stored in directory: /root/.cache/pip/wheels/e7/33/73/719f8f1bd984d39face880fd22f6c5ef1b85f726e84c687094\n",
            "  Building wheel for pysimplevalidate (PEP 517) ... \u001b[?25l\u001b[?25hdone\n",
            "  Created wheel for pysimplevalidate: filename=PySimpleValidate-0.2.12-py3-none-any.whl size=16193 sha256=2405713e83730dbef5b85af6665a5b776a0ad22545e73cc82da3a2f4d1475225\n",
            "  Stored in directory: /root/.cache/pip/wheels/5a/8b/6c/2925d22b93860bdc9b8ce02c3d2cf79336606f7469cef66065\n",
            "  Building wheel for stdiomask (PEP 517) ... \u001b[?25l\u001b[?25hdone\n",
            "  Created wheel for stdiomask: filename=stdiomask-0.0.6-py3-none-any.whl size=3321 sha256=ff439d67a25c9b219208643ebaed60e2909e1b61a497d5d73675e254f420c59c\n",
            "  Stored in directory: /root/.cache/pip/wheels/cf/13/89/64d0d3b167759523f4c1e68f883bbc30e7bfa27050edeb418e\n",
            "Successfully built PyInputPlus pysimplevalidate stdiomask\n",
            "Installing collected packages: stdiomask, pysimplevalidate, PyInputPlus\n",
            "Successfully installed PyInputPlus-0.2.12 pysimplevalidate-0.2.12 stdiomask-0.0.6\n"
          ]
        }
      ],
      "source": [
        "#install the module\n",
        "!pip install PyInputPlus"
      ]
    },
    {
      "cell_type": "code",
      "source": [
        "import pyinputplus as pyip\n",
        "\n",
        "age = pyip.inputNum(prompt = \"How old are you \", greaterThan = 10)\n",
        "print()\n",
        "print('Your age is: ' + str(age))\n"
      ],
      "metadata": {
        "id": "OvqPitIkh379",
        "colab": {
          "base_uri": "https://localhost:8080/"
        },
        "outputId": "39534e5b-82fb-42ba-eaba-bc6dfc2f1b63"
      },
      "id": "OvqPitIkh379",
      "execution_count": 17,
      "outputs": [
        {
          "output_type": "stream",
          "name": "stdout",
          "text": [
            "How old are you 10\n",
            "Number must be greater than 10.\n",
            "How old are you 12\n",
            "\n",
            "Your age is: 12\n"
          ]
        }
      ]
    },
    {
      "cell_type": "code",
      "source": [
        ""
      ],
      "metadata": {
        "id": "BSY3chdWieP1"
      },
      "id": "BSY3chdWieP1",
      "execution_count": null,
      "outputs": []
    }
  ],
  "metadata": {
    "kernelspec": {
      "display_name": "Python 3 (ipykernel)",
      "language": "python",
      "name": "python3"
    },
    "language_info": {
      "codemirror_mode": {
        "name": "ipython",
        "version": 3
      },
      "file_extension": ".py",
      "mimetype": "text/x-python",
      "name": "python",
      "nbconvert_exporter": "python",
      "pygments_lexer": "ipython3",
      "version": "3.9.6"
    },
    "colab": {
      "name": "04_input_validation.ipynb",
      "provenance": [],
      "include_colab_link": true
    }
  },
  "nbformat": 4,
  "nbformat_minor": 5
}